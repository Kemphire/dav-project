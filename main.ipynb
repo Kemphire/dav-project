{
 "cells": [
  {
   "cell_type": "markdown",
   "metadata": {},
   "source": [
    "# Inital Setup's for analysis"
   ]
  },
  {
   "cell_type": "markdown",
   "metadata": {},
   "source": [
    "# Objectives\n",
    "\n",
    "## My analysis will be more focussed towards Indian Developers\n",
    "\n",
    "1. General things\n",
    "    - To analyse the amount of developers from India Participating in this survery\n",
    "    - To analyse the proffession, interest and background of those developers\n",
    "    - To analyse the field of work of Indian developers\n",
    "    - Distribution of student among India developers\n",
    "\n",
    "2. Demographics and education\n",
    "    - What is the age distribution of Indian developers?\n",
    "    - How many Indian developers identify as self-taught, formally educated, or bootcamp graduates?\n",
    "\n",
    "4. Professional Life\n",
    "    - What is the average work experience of developers in India?\n",
    "    - What is the distribution of annual compensation for Indian developers according to their age?\n",
    "\n",
    "5. Technology and Skills\n",
    "    - What programming languages, tools, and frameworks are most popular among Indian developers?\n",
    "    - Which technologies are Indian developers most interested in learning?\n",
    "    - What percentage of Indian developers work on open-source projects?\n",
    "    - Most Used Web Framework withing India Developers\n",
    "\n",
    "6. AI related\n",
    "    - Distribution of utilisation of AI by Indian developers (on type of work done by AI)\n",
    "    - Sentiment of Indian Developers who thinks AI is threat, on the basis of their workex.\n",
    "\n",
    "7. Operating System\n",
    "    - To compare the level of experience of different operating system users\n",
    "    - To see the distribution of total number of os users in pie chart\n"
   ]
  },
  {
   "cell_type": "markdown",
   "metadata": {},
   "source": [
    "### Loading required packages"
   ]
  },
  {
   "cell_type": "code",
   "execution_count": 126,
   "metadata": {},
   "outputs": [],
   "source": [
    "import pandas as pd\n",
    "import numpy as np"
   ]
  },
  {
   "cell_type": "code",
   "execution_count": 127,
   "metadata": {},
   "outputs": [],
   "source": [
    "df = pd.read_csv(\"data/survey_results_public.csv\")\n",
    "schema_df = pd.read_csv(\"data/survey_results_schema.csv\")\n"
   ]
  },
  {
   "cell_type": "markdown",
   "metadata": {},
   "source": [
    "### Filtering rows which concerns us i.e. (Data of India users)"
   ]
  },
  {
   "cell_type": "code",
   "execution_count": 128,
   "metadata": {},
   "outputs": [],
   "source": [
    "df = df.loc[df.Country == \"India\"]\n"
   ]
  },
  {
   "cell_type": "markdown",
   "metadata": {},
   "source": [
    "# Some Data Cleaning"
   ]
  },
  {
   "cell_type": "code",
   "execution_count": 129,
   "metadata": {},
   "outputs": [],
   "source": [
    "# Remoing not so usefull columns        \n",
    "df.drop(\"Check\",axis=1,inplace=True)"
   ]
  },
  {
   "cell_type": "code",
   "execution_count": 130,
   "metadata": {},
   "outputs": [],
   "source": [
    "df.loc[(df.Employment.str.contains(\"Student, full-time\")) & (~df.RemoteWork.isnull())]\n",
    "df.loc[df[\"RemoteWork\"].isnull(),\"RemoteWork\"] = \"Not Intrested\"\n",
    "df.columns\n",
    "columns_to_drop = df.columns[df.columns.get_loc(\"JobSatPoints_1\"):]\n",
    "df.drop(columns=columns_to_drop,inplace=True)"
   ]
  },
  {
   "cell_type": "code",
   "execution_count": 131,
   "metadata": {},
   "outputs": [],
   "source": [
    "columns_to_drop = [col for col in df.columns if \"Knowledge_\" in col]\n",
    "df.drop(columns=columns_to_drop,inplace=True)"
   ]
  },
  {
   "cell_type": "markdown",
   "metadata": {},
   "source": [
    "In columns where the survery took input about programming language currently using, admired etc are \";\" separated string of names of programming language\n",
    "\n",
    "- So for each such type of column i will make a list out of strings using \";\" as a delimiter \n",
    "- then i will explode all such columns one by one two avoid alignment issues\n",
    "- then store them as series in different variables\n",
    "- and then use those series to perform different operations"
   ]
  },
  {
   "cell_type": "code",
   "execution_count": 132,
   "metadata": {},
   "outputs": [],
   "source": [
    "# language_have_worked_with = df[\"LanguageHaveWorkedWith\"].str.split(\";\")\n",
    "# language_want_to_work_with = df[\"LanguageWantToWorkWith\"].str.split(\";\")\n",
    "# language_admired = df[\"LanguageAdmired\"].str.split(\";\")\n",
    "\n",
    "series_of_languages_have_worked_with = (\n",
    "    df.dropna(subset=[\"LanguageHaveWorkedWith\"])[\"LanguageHaveWorkedWith\"]\n",
    "    .str.split(\";\")\n",
    "    .explode()\n",
    ")\n",
    "series_of_languages_want_to_work_with = (\n",
    "    df.dropna(subset=[\"LanguageWantToWorkWith\"])[\"LanguageWantToWorkWith\"]\n",
    "    .str.split(\";\")\n",
    "    .explode()\n",
    ")\n",
    "series_of_languages_admire_to_work_with = (\n",
    "    df.dropna(subset=[\"LanguageAdmired\"])[\"LanguageAdmired\"].str.split(\";\").explode()\n",
    ")\n",
    "\n",
    "# series_of_languages_admire_to_work_with.value_counts()\n",
    "# series_of_languages_want_to_work_with.value_counts()\n",
    "# series_of_languages_have_worked_with.value_counts()[:10].plot.bar()"
   ]
  },
  {
   "cell_type": "code",
   "execution_count": null,
   "metadata": {},
   "outputs": [
    {
     "name": "stdout",
     "output_type": "stream",
     "text": [
      "17       0.0\n",
      "58       0.0\n",
      "75       0.0\n",
      "89       0.0\n",
      "96       0.0\n",
      "        ... \n",
      "65339    0.0\n",
      "65383    0.0\n",
      "65413    0.0\n",
      "65415    0.0\n",
      "65428    0.0\n",
      "Name: YearsCode, Length: 4231, dtype: object\n"
     ]
    },
    {
     "data": {
      "text/plain": [
       "17       0.0\n",
       "58       0.0\n",
       "75       0.0\n",
       "89       0.0\n",
       "96       0.0\n",
       "        ... \n",
       "65339    0.0\n",
       "65383    0.0\n",
       "65413    0.0\n",
       "65415    0.0\n",
       "65428    0.0\n",
       "Name: YearsCodePro, Length: 4231, dtype: object"
      ]
     },
     "execution_count": 133,
     "metadata": {},
     "output_type": "execute_result"
    }
   ],
   "source": [
    "# filling na's in YearsCode and YearsCodePro column\n",
    "# hanlind strings\n",
    "df.loc[:, \"YearsCode\"] = df.apply(\n",
    "    lambda row: 0\n",
    "    if isinstance(row[\"YearsCode\"],str)\n",
    "    else row[\"YearsCode\"],\n",
    "    axis=1,\n",
    ")\n",
    "df.loc[:, \"YearsCodePro\"] = df.apply(\n",
    "    lambda row: 0\n",
    "    if isinstance(row[\"YearsCodePro\"],str)\n",
    "    else row[\"YearsCodePro\"],\n",
    "    axis=1,\n",
    ")\n",
    "# the above is making everything zero, i'will fix it tommorow\n",
    "\n",
    "# i'm not handling the case where both the column are NaN's\n",
    "df.loc[:, \"YearsCode\"] = df.apply(\n",
    "    lambda row: row[\"YearsCodePro\"] if pd.isna(row[\"YearsCode\"]) else row[\"YearsCode\"],\n",
    "    axis=1,\n",
    ")\n",
    "df.loc[:, \"YearsCodePro\"] = df.apply(\n",
    "    lambda row: row[\"YearsCode\"]\n",
    "    if pd.isna(row[\"YearsCodePro\"])\n",
    "    else row[\"YearsCodePro\"],\n",
    "    axis=1,\n",
    ")\n",
    "\n",
    "df.loc[:, \"YearsCode\"] = df.apply(\n",
    "    lambda row: 0\n",
    "    if pd.isna(row[\"YearsCode\"]) and pd.isna(row[\"YearsCodePro\"])\n",
    "    else row[\"YearsCode\"],\n",
    "    axis=1,\n",
    ")\n",
    "df.loc[:, \"YearsCodePro\"] = df.apply(\n",
    "    lambda row: 0\n",
    "    if pd.isna(row[\"YearsCodePro\"]) and pd.isna(row[\"YearsCode\"])\n",
    "    else row[\"YearsCodePro\"],\n",
    "    axis=1,\n",
    ")\n",
    "\n",
    "print(df.YearsCode)\n",
    "df.YearsCodePro"
   ]
  },
  {
   "cell_type": "code",
   "execution_count": 134,
   "metadata": {},
   "outputs": [],
   "source": [
    "# discarding YearsCodePro and only keeping YearsCode\n",
    "# first we will keep \n",
    "#   store the max of both in YearsCode\n",
    "\n",
    "\n",
    "df.loc[:,\"YearsCode\"] = df.apply(lambda row: max(row[\"YearsCodePro\"],row[\"YearsCode\"]), axis=1)\n",
    "\n",
    "# dropping YearsCodePro\n",
    "\n",
    "df.drop(columns=[\"YearsCodePro\"],inplace=True)"
   ]
  },
  {
   "cell_type": "code",
   "execution_count": 135,
   "metadata": {},
   "outputs": [],
   "source": [
    "df.to_csv(\"/tmp/data_dav.csv\")"
   ]
  },
  {
   "cell_type": "markdown",
   "metadata": {},
   "source": [
    "## To analyze the amount of developrs from India participating in this survey\n",
    "\n",
    "- We will be finding out the number developers in each given age group"
   ]
  },
  {
   "cell_type": "code",
   "execution_count": null,
   "metadata": {},
   "outputs": [],
   "source": []
  }
 ],
 "metadata": {
  "kernelspec": {
   "display_name": ".venv",
   "language": "python",
   "name": "python3"
  },
  "language_info": {
   "codemirror_mode": {
    "name": "ipython",
    "version": 3
   },
   "file_extension": ".py",
   "mimetype": "text/x-python",
   "name": "python",
   "nbconvert_exporter": "python",
   "pygments_lexer": "ipython3",
   "version": "3.12.7"
  }
 },
 "nbformat": 4,
 "nbformat_minor": 2
}
