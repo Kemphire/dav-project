{
 "cells": [
  {
   "cell_type": "markdown",
   "metadata": {},
   "source": [
    "# Inital Setup's for analysis"
   ]
  },
  {
   "cell_type": "markdown",
   "metadata": {},
   "source": [
    "# Objectives\n",
    "\n",
    "## My analysis will be more focussed towards Indian Developers\n",
    "\n",
    "1. General things\n",
    "    - To analyse the amount of developers from India Participating in this survery\n",
    "    - To analyse the proffession, interest and background of those developers\n",
    "    - To analyse the field of work of Indian developers\n",
    "    - Distribution of student among India developers\n",
    "\n",
    "2. Demographics and education\n",
    "    - What is the age distribution of Indian developers?\n",
    "    - How many Indian developers identify as self-taught, formally educated, or bootcamp graduates?\n",
    "\n",
    "4. Professional Life\n",
    "    - What is the average work experience of developers in India?\n",
    "    - What is the distribution of annual compensation for Indian developers according to their age?\n",
    "\n",
    "5. Technology and Skills\n",
    "    - What programming languages, tools, and frameworks are most popular among Indian developers?\n",
    "    - Which technologies are Indian developers most interested in learning?\n",
    "    - What percentage of Indian developers work on open-source projects?\n",
    "    - Most Used Web Framework withing India Developers\n",
    "\n",
    "6. AI related\n",
    "    - Distribution of utilisation of AI by Indian developers (on type of work done by AI)\n",
    "    - Sentiment of Indian Developers who thinks AI is threat, on the basis of their workex.\n",
    "\n",
    "7. Operating System\n",
    "    - To compare the level of experience of different operating system users\n",
    "    - To see the distribution of total number of os users in pie chart\n"
   ]
  },
  {
   "cell_type": "markdown",
   "metadata": {},
   "source": [
    "### Loading required packages"
   ]
  },
  {
   "cell_type": "code",
   "execution_count": null,
   "metadata": {},
   "outputs": [],
   "source": [
    "import pandas as pd\n",
    "import numpy as np\n",
    "import matplotlib.pyplot as plt"
   ]
  },
  {
   "cell_type": "code",
   "execution_count": 69,
   "metadata": {},
   "outputs": [],
   "source": [
    "df = pd.read_csv(\"data/survey_results_public.csv\")\n",
    "schema_df = pd.read_csv(\"data/survey_results_schema.csv\")\n"
   ]
  },
  {
   "cell_type": "markdown",
   "metadata": {},
   "source": [
    "### Filtering rows which concerns us i.e. (Data of India users)"
   ]
  },
  {
   "cell_type": "code",
   "execution_count": 70,
   "metadata": {},
   "outputs": [],
   "source": [
    "df = df.loc[df.Country == \"India\"]\n"
   ]
  },
  {
   "cell_type": "markdown",
   "metadata": {},
   "source": [
    "# Some Data Cleaning"
   ]
  },
  {
   "cell_type": "code",
   "execution_count": null,
   "metadata": {},
   "outputs": [],
   "source": [
    "# Remoing not so usefull columns        \n",
    "df.drop(\"Check\",axis=1,inplace=True)"
   ]
  },
  {
   "cell_type": "code",
   "execution_count": 72,
   "metadata": {},
   "outputs": [],
   "source": [
    "df.loc[(df.Employment.str.contains(\"Student, full-time\")) & (~df.RemoteWork.isnull())]\n",
    "df.loc[df[\"RemoteWork\"].isnull(),\"RemoteWork\"] = \"Not Intrested\"\n",
    "df.columns\n",
    "columns_to_drop = df.columns[df.columns.get_loc(\"JobSatPoints_1\"):]\n",
    "df.drop(columns=columns_to_drop,inplace=True)"
   ]
  },
  {
   "cell_type": "code",
   "execution_count": 73,
   "metadata": {},
   "outputs": [],
   "source": [
    "columns_to_drop = [col for col in df.columns if \"Knowledge_\" in col]\n",
    "df.drop(columns=columns_to_drop,inplace=True)"
   ]
  },
  {
   "cell_type": "markdown",
   "metadata": {},
   "source": [
    "In columns where the survery took input about programming language currently using, admired etc are \";\" separated string of names of programming language\n",
    "\n",
    "- So for each such type of column i will make a list out of strings using \";\" as a delimiter \n",
    "- then i will explode all such columns one by one two avoid alignment issues\n",
    "- then store them as series in different variables\n",
    "- and then use those series to perform different operations"
   ]
  },
  {
   "cell_type": "code",
   "execution_count": 86,
   "metadata": {},
   "outputs": [
    {
     "data": {
      "text/plain": [
       "17          HTML/CSS\n",
       "17        JavaScript\n",
       "17        TypeScript\n",
       "58                 C\n",
       "58               C++\n",
       "            ...     \n",
       "65339     JavaScript\n",
       "65339    Objective-C\n",
       "65339         Python\n",
       "65339          Swift\n",
       "65339     TypeScript\n",
       "Name: LanguageHaveWorkedWith, Length: 20314, dtype: object"
      ]
     },
     "execution_count": 86,
     "metadata": {},
     "output_type": "execute_result"
    }
   ],
   "source": [
    "# language_have_worked_with = df[\"LanguageHaveWorkedWith\"].str.split(\";\")\n",
    "# language_want_to_work_with = df[\"LanguageWantToWorkWith\"].str.split(\";\")\n",
    "# language_admired = df[\"LanguageAdmired\"].str.split(\";\")\n",
    "\n",
    "series_of_languages_have_worked_with = df.dropna(subset=[\"LanguageHaveWorkedWith\"])[\"LanguageHaveWorkedWith\"].str.split(\";\").explode()\n",
    "series_of_languages_have_worked_with"
   ]
  },
  {
   "cell_type": "markdown",
   "metadata": {},
   "source": [
    "## To analyze the amount of developrs from India participating in this survey\n",
    "\n",
    "- We will be finding out the number developers in each given age group"
   ]
  },
  {
   "cell_type": "code",
   "execution_count": null,
   "metadata": {},
   "outputs": [],
   "source": []
  }
 ],
 "metadata": {
  "kernelspec": {
   "display_name": ".venv",
   "language": "python",
   "name": "python3"
  },
  "language_info": {
   "codemirror_mode": {
    "name": "ipython",
    "version": 3
   },
   "file_extension": ".py",
   "mimetype": "text/x-python",
   "name": "python",
   "nbconvert_exporter": "python",
   "pygments_lexer": "ipython3",
   "version": "3.12.6"
  }
 },
 "nbformat": 4,
 "nbformat_minor": 2
}
